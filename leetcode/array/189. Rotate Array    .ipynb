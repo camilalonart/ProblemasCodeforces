{
 "cells": [
  {
   "cell_type": "code",
   "execution_count": 20,
   "metadata": {},
   "outputs": [],
   "source": [
    "def reverse(nums,start,end):\n",
    "    while (start < end):\n",
    "        nums[start],nums[end] = nums[end],nums[start]\n",
    "        start+=1\n",
    "        end-=1\n",
    "        \n",
    "def rotateRight(nums, k):\n",
    "    k %= len(nums)\n",
    "    reverse(nums, 0, len(nums) - 1)\n",
    "    reverse(nums, 0, k - 1)\n",
    "    reverse(nums, k, len(nums) - 1)\n",
    "    return nums\n",
    "\n",
    "def rotateLeft(nums, k):\n",
    "    k %= len(nums)\n",
    "    reverse(nums, 0, len(nums) - 1)\n",
    "    reverse(nums, 0,len(nums)-k-1)\n",
    "    reverse(nums, len(nums)-k, len(nums)-1 )\n",
    "    return nums"
   ]
  },
  {
   "cell_type": "code",
   "execution_count": 21,
   "metadata": {},
   "outputs": [
    {
     "data": {
      "text/plain": [
       "[4, 5, 6, 7, 1, 2, 3]"
      ]
     },
     "execution_count": 21,
     "metadata": {},
     "output_type": "execute_result"
    }
   ],
   "source": [
    "rotateLeft([1,2,3,4,5,6,7],3)\n"
   ]
  },
  {
   "cell_type": "raw",
   "metadata": {},
   "source": [
    "ROTATE LEFT\n",
    "1234567 \n",
    "7654321 invierto todo\n",
    "4567    invierto 0 hasta len-k-1\n",
    "    123 invierto len-k+1 hasta len-1"
   ]
  },
  {
   "cell_type": "raw",
   "metadata": {},
   "source": [
    "ROTATE RIGHT\n",
    "1234567 \n",
    "7654321 invierto todo\n",
    "567     invierto de 0 hasta k-1\n",
    "   1234 invierto de k hasta len-1"
   ]
  }
 ],
 "metadata": {
  "kernelspec": {
   "display_name": "Python 3",
   "language": "python",
   "name": "python3"
  },
  "language_info": {
   "codemirror_mode": {
    "name": "ipython",
    "version": 3
   },
   "file_extension": ".py",
   "mimetype": "text/x-python",
   "name": "python",
   "nbconvert_exporter": "python",
   "pygments_lexer": "ipython3",
   "version": "3.6.5"
  }
 },
 "nbformat": 4,
 "nbformat_minor": 2
}
