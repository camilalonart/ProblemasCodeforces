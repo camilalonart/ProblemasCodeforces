{
 "cells": [
  {
   "cell_type": "code",
   "execution_count": 27,
   "metadata": {},
   "outputs": [],
   "source": [
    "def maxProfit(prices):\n",
    "    buy = 999999999\n",
    "    pointerOfBuyingPrice = -1\n",
    "    sell = -1\n",
    "\n",
    "    for i in range(len(prices)):\n",
    "        if(buy > prices[i]):\n",
    "            buy = prices[i]\n",
    "            pointerOfBuyingPrice = i\n",
    "    if(pointerOfBuyingPrice == len(prices)-1):\n",
    "        print(pointerOfBuyiPrice)\n",
    "        return 0\n",
    "    else:\n",
    "        for i in range(pointerOfBuyingPrice, len(prices), 1):\n",
    "            if(sell < prices[i]):\n",
    "                sell = prices[i]\n",
    "\n",
    "    print(sell,buy)\n",
    "    return sell - buy\n"
   ]
  },
  {
   "cell_type": "code",
   "execution_count": 28,
   "metadata": {},
   "outputs": [
    {
     "name": "stdout",
     "output_type": "stream",
     "text": [
      "2 1\n"
     ]
    },
    {
     "data": {
      "text/plain": [
       "1"
      ]
     },
     "execution_count": 28,
     "metadata": {},
     "output_type": "execute_result"
    }
   ],
   "source": [
    "maxProfit([1,2])"
   ]
  },
  {
   "cell_type": "code",
   "execution_count": 19,
   "metadata": {},
   "outputs": [],
   "source": [
    "def maxProfit(prices):\n",
    "    buy = min(prices)\n",
    "    pointerOfBuyingPrice = prices.index(buy)\n",
    "    \n",
    "    if(pointerOfBuyingPrice == len(prices)-1):\n",
    "        return 0\n",
    "    else:\n",
    "        sell = max(prices[pointerOfBuyingPrice:])\n",
    "        \n",
    "    return sell - buy\n",
    "\n"
   ]
  },
  {
   "cell_type": "code",
   "execution_count": null,
   "metadata": {},
   "outputs": [],
   "source": [
    "EDGE CASES:\n",
    "    - Que el menor numero este en la ultima posicion"
   ]
  }
 ],
 "metadata": {
  "kernelspec": {
   "display_name": "Python 3",
   "language": "python",
   "name": "python3"
  },
  "language_info": {
   "codemirror_mode": {
    "name": "ipython",
    "version": 3
   },
   "file_extension": ".py",
   "mimetype": "text/x-python",
   "name": "python",
   "nbconvert_exporter": "python",
   "pygments_lexer": "ipython3",
   "version": "3.6.5"
  }
 },
 "nbformat": 4,
 "nbformat_minor": 2
}
