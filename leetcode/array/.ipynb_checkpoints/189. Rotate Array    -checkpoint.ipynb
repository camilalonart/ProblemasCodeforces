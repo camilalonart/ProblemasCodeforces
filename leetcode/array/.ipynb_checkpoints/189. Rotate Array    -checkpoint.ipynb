{
 "cells": [
  {
   "cell_type": "code",
   "execution_count": 84,
   "metadata": {},
   "outputs": [],
   "source": [
    "def reverse(nums,start,end):\n",
    "    while (start < end):\n",
    "        nums[start],nums[end] = nums[end],nums[start]\n",
    "        start+=1\n",
    "        end-=1\n",
    "        \n",
    "def rotate(nums, k):\n",
    "    k %= len(nums)\n",
    "    reverse(nums, 0, len(nums) - 1)\n",
    "    reverse(nums, 0, k - 1)\n",
    "    reverse(nums, k, len(nums) - 1)\n",
    "    return nums\n",
    "\n"
   ]
  },
  {
   "cell_type": "code",
   "execution_count": 85,
   "metadata": {},
   "outputs": [
    {
     "data": {
      "text/plain": [
       "[5, 6, 7, 1, 2, 3, 4]"
      ]
     },
     "execution_count": 85,
     "metadata": {},
     "output_type": "execute_result"
    }
   ],
   "source": [
    "rotate([1,2,3,4,5,6,7],3)"
   ]
  },
  {
   "cell_type": "raw",
   "metadata": {},
   "source": [
    "7654321\n",
    "567\n",
    "   1234\n",
    "5671234"
   ]
  }
 ],
 "metadata": {
  "kernelspec": {
   "display_name": "Python 3",
   "language": "python",
   "name": "python3"
  },
  "language_info": {
   "codemirror_mode": {
    "name": "ipython",
    "version": 3
   },
   "file_extension": ".py",
   "mimetype": "text/x-python",
   "name": "python",
   "nbconvert_exporter": "python",
   "pygments_lexer": "ipython3",
   "version": "3.6.5"
  }
 },
 "nbformat": 4,
 "nbformat_minor": 2
}
