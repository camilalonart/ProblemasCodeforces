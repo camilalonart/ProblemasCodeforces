{
 "cells": [
  {
   "cell_type": "code",
   "execution_count": 1,
   "metadata": {},
   "outputs": [],
   "source": [
    "def bestTime(arr):\n",
    "    buy = 999999999\n",
    "    pointerOfBuyingPrice = -1\n",
    "    sell = -1\n",
    "    \n",
    "    for i in range(len(arr)):\n",
    "        if(buy > arr[i]):\n",
    "            buy = arr[i]\n",
    "            pointerOfBuyingPrice = i\n",
    "    if(pointerOfBuyingPrice == len(arr)-1):\n",
    "        print(pointerOfBuyingPrice)\n",
    "        return 0\n",
    "    else:\n",
    "        for i in range(pointerOfBuyingPrice, len(arr)-1, 1):\n",
    "            if(sell < arr[i]):\n",
    "                sell = arr[i]\n",
    "\n",
    "    \n",
    "    return sell - buy"
   ]
  },
  {
   "cell_type": "code",
   "execution_count": 2,
   "metadata": {},
   "outputs": [
    {
     "data": {
      "text/plain": [
       "0"
      ]
     },
     "execution_count": 2,
     "metadata": {},
     "output_type": "execute_result"
    }
   ],
   "source": [
    "bestTime([7, 6, 4, 3, 8])"
   ]
  },
  {
   "cell_type": "code",
   "execution_count": null,
   "metadata": {},
   "outputs": [],
   "source": [
    "def bestTime(arr):\n",
    "    buy = 999999999\n",
    "    pointerOfBuyingPrice = -1\n",
    "    sell = -1\n",
    "    \n",
    "    #buy es el menor\n",
    "    for i in range(len(arr)):\n",
    "        if(buy > arr[i]):\n",
    "            buy = arr[i]\n",
    "            pointerOfBuyingPrice = i\n",
    "            \n",
    "    if(pointerOfBuyingPrice == len(arr)-1):\n",
    "        print(pointerOfBuyingPrice)\n",
    "        return 0\n",
    "    else:\n",
    "        for i in range(pointerOfBuyingPrice, len(arr)-1, 1):\n",
    "            if(sell < arr[i]):\n",
    "                sell = arr[i]\n",
    "\n",
    "    \n",
    "    return sell - buy"
   ]
  }
 ],
 "metadata": {
  "kernelspec": {
   "display_name": "Python 3",
   "language": "python",
   "name": "python3"
  },
  "language_info": {
   "codemirror_mode": {
    "name": "ipython",
    "version": 3
   },
   "file_extension": ".py",
   "mimetype": "text/x-python",
   "name": "python",
   "nbconvert_exporter": "python",
   "pygments_lexer": "ipython3",
   "version": "3.6.5"
  }
 },
 "nbformat": 4,
 "nbformat_minor": 2
}
