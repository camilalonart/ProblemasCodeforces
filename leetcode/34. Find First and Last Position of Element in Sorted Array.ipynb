{
 "cells": [
  {
   "cell_type": "code",
   "execution_count": null,
   "metadata": {},
   "outputs": [],
   "source": [
    "class Solution {\n",
    "    // returns leftmost (or rightmost) index at which `target` should be\n",
    "    // inserted in sorted array `nums` via binary search.\n",
    "    private int extremeInsertionIndex(int[] nums, int target, boolean left) {\n",
    "        int lo = 0;\n",
    "        int hi = nums.length;\n",
    "\n",
    "        while (lo < hi) {\n",
    "            int mid = (lo + hi) / 2;\n",
    "            if (nums[mid] > target || (left && target == nums[mid])) {\n",
    "                hi = mid;\n",
    "            }\n",
    "            else {\n",
    "                lo = mid+1;\n",
    "            }\n",
    "        }\n",
    "\n",
    "        return lo;\n",
    "    }\n",
    "\n",
    "    public int[] searchRange(int[] nums, int target) {\n",
    "        int[] targetRange = {-1, -1};\n",
    "\n",
    "        int leftIdx = extremeInsertionIndex(nums, target, true);\n",
    "\n",
    "        // assert that `leftIdx` is within the array bounds and that `target`\n",
    "        // is actually in `nums`.\n",
    "        if (leftIdx == nums.length || nums[leftIdx] != target) {\n",
    "            return targetRange;\n",
    "        }\n",
    "\n",
    "        targetRange[0] = leftIdx;\n",
    "        targetRange[1] = extremeInsertionIndex(nums, target, false)-1;\n",
    "\n",
    "        return targetRange;\n",
    "    }\n",
    "}"
   ]
  }
 ],
 "metadata": {
  "kernelspec": {
   "display_name": "Python 3",
   "language": "python",
   "name": "python3"
  },
  "language_info": {
   "codemirror_mode": {
    "name": "ipython",
    "version": 3
   },
   "file_extension": ".py",
   "mimetype": "text/x-python",
   "name": "python",
   "nbconvert_exporter": "python",
   "pygments_lexer": "ipython3",
   "version": "3.6.5"
  }
 },
 "nbformat": 4,
 "nbformat_minor": 2
}
