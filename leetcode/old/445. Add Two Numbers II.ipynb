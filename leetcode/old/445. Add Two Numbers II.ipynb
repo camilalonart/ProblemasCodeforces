{
 "cells": [
  {
   "cell_type": "code",
   "execution_count": null,
   "metadata": {},
   "outputs": [],
   "source": [
    "# Definition for singly-linked list.\n",
    "# class ListNode(object):\n",
    "#     def __init__(self, x):\n",
    "#         self.val = x\n",
    "#         self.next = None\n",
    "\n",
    "class Solution(object):\n",
    "    def addTwoNumbers(self, l1, l2):\n",
    "        \"\"\"\n",
    "        :type l1: ListNode\n",
    "        :type l2: ListNode\n",
    "        :rtype: ListNode\n",
    "        \"\"\""
   ]
  },
  {
   "cell_type": "code",
   "execution_count": 230,
   "metadata": {},
   "outputs": [],
   "source": [
    "\n",
    "def addTwoNumbers(l1, l2):\n",
    "    number1 = 0\n",
    "    inc = 1\n",
    "    #convert to num\n",
    "    while(l1 != None):\n",
    "        number1 = (number1 * 10) + (l1.val)\n",
    "        l1 = l1.next\n",
    "    #convert to num\n",
    "    number2 = 0\n",
    "    inc = 1\n",
    "    while(l2 != None):\n",
    "        number2 = (number2 * 10) + (l2.val)\n",
    "        l2 = l2.next\n",
    "    #sum nums\n",
    "    stringnumber = str(number1+number2)\n",
    "    \n",
    "    #convert to nodes\n",
    "    for i in range(len(stringnumber)-1):\n",
    "        actual = ListNode(int(stringnumber[i]))\n",
    "        siguiente = ListNode(int(stringnumber[i+1]))\n",
    "        actual.next = siguiente\n",
    "        actual = siguiente\n",
    "\n",
    "    return actual"
   ]
  },
  {
   "cell_type": "code",
   "execution_count": 231,
   "metadata": {},
   "outputs": [],
   "source": [
    "class ListNode(object):\n",
    "    def __init__(self, x):\n",
    "        self.val = x\n",
    "        self.next = None\n",
    "\n"
   ]
  },
  {
   "cell_type": "code",
   "execution_count": 232,
   "metadata": {},
   "outputs": [],
   "source": [
    "l1Node1 = ListNode(7)\n",
    "l1Node2 = ListNode(2)\n",
    "l1Node3 = ListNode(4)\n",
    "l1Node4 = ListNode(3)\n",
    "\n",
    "l1Node1.next = l1Node2\n",
    "l1Node2.next = l1Node3\n",
    "l1Node3.next = l1Node4\n",
    "\n",
    "l2Node1 = ListNode(5)\n",
    "l2Node2 = ListNode(6)\n",
    "l2Node3 = ListNode(4)\n",
    "\n",
    "l2Node1.next = l2Node2\n",
    "l2Node2.next = l2Node3\n"
   ]
  },
  {
   "cell_type": "code",
   "execution_count": null,
   "metadata": {},
   "outputs": [],
   "source": []
  },
  {
   "cell_type": "code",
   "execution_count": 233,
   "metadata": {},
   "outputs": [
    {
     "name": "stdout",
     "output_type": "stream",
     "text": [
      "7\n",
      "8\n",
      "0\n"
     ]
    },
    {
     "data": {
      "text/plain": [
       "<__main__.ListNode at 0x104b6dc88>"
      ]
     },
     "execution_count": 233,
     "metadata": {},
     "output_type": "execute_result"
    }
   ],
   "source": [
    "addTwoNumbers(l1Node1,l2Node1)"
   ]
  },
  {
   "cell_type": "code",
   "execution_count": null,
   "metadata": {},
   "outputs": [],
   "source": []
  },
  {
   "cell_type": "code",
   "execution_count": null,
   "metadata": {},
   "outputs": [],
   "source": []
  }
 ],
 "metadata": {
  "kernelspec": {
   "display_name": "Python 3",
   "language": "python",
   "name": "python3"
  },
  "language_info": {
   "codemirror_mode": {
    "name": "ipython",
    "version": 3
   },
   "file_extension": ".py",
   "mimetype": "text/x-python",
   "name": "python",
   "nbconvert_exporter": "python",
   "pygments_lexer": "ipython3",
   "version": "3.6.5"
  }
 },
 "nbformat": 4,
 "nbformat_minor": 2
}
