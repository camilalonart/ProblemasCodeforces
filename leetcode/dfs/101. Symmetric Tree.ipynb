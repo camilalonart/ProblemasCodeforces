{
 "cells": [
  {
   "cell_type": "code",
   "execution_count": 8,
   "metadata": {},
   "outputs": [],
   "source": [
    "class TreeNode(object):\n",
    "    def __init__(self, x):\n",
    "        self.val = x\n",
    "        self.left = None\n",
    "        self.right = None"
   ]
  },
  {
   "cell_type": "code",
   "execution_count": 9,
   "metadata": {},
   "outputs": [],
   "source": [
    "def subTreeMirrors(node1,node2):\n",
    "    if node1 == None and node2 == None:\n",
    "        return true\n",
    "    elif t1 == None or t2 == None:\n",
    "        return false\n",
    "    return (node1.val == node2.val) and isMirror(t1.right, t2.left) and isMirror(t1.left, t2.right)\n",
    "\n",
    "def isSymmetric(root):\n",
    "    subTreeMirrors(root,root)"
   ]
  }
 ],
 "metadata": {
  "kernelspec": {
   "display_name": "Python 3",
   "language": "python",
   "name": "python3"
  },
  "language_info": {
   "codemirror_mode": {
    "name": "ipython",
    "version": 3
   },
   "file_extension": ".py",
   "mimetype": "text/x-python",
   "name": "python",
   "nbconvert_exporter": "python",
   "pygments_lexer": "ipython3",
   "version": "3.6.5"
  }
 },
 "nbformat": 4,
 "nbformat_minor": 2
}
