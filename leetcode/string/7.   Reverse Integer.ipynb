{
 "cells": [
  {
   "cell_type": "code",
   "execution_count": 36,
   "metadata": {},
   "outputs": [],
   "source": [
    "def reverse(x):\n",
    "    tenth=1\n",
    "    number = 0 \n",
    "    string = str(x)\n",
    "\n",
    "\n",
    "    if(x>0):\n",
    "        for i in range(len(string)):\n",
    "            number+=(int(string[i])*tenth)\n",
    "            tenth = tenth*10\n",
    "        return number\n",
    "    else:\n",
    "        string = string[1:]\n",
    "        for i in range(len(string)):\n",
    "            number+=(int(string[i])*tenth)\n",
    "            tenth = tenth*10\n",
    "        return number*-1"
   ]
  },
  {
   "cell_type": "code",
   "execution_count": null,
   "metadata": {},
   "outputs": [],
   "source": []
  }
 ],
 "metadata": {
  "kernelspec": {
   "display_name": "Python 3",
   "language": "python",
   "name": "python3"
  },
  "language_info": {
   "codemirror_mode": {
    "name": "ipython",
    "version": 3
   },
   "file_extension": ".py",
   "mimetype": "text/x-python",
   "name": "python",
   "nbconvert_exporter": "python",
   "pygments_lexer": "ipython3",
   "version": "3.6.5"
  }
 },
 "nbformat": 4,
 "nbformat_minor": 2
}
