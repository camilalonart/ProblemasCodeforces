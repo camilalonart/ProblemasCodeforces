{
 "cells": [
  {
   "cell_type": "code",
   "execution_count": null,
   "metadata": {},
   "outputs": [],
   "source": [
    "def minPathSum(grid):\n",
    "    minSum = 0\n",
    "    if(len(grid)==1 and len(grid[0])):\n",
    "        return grid[0][0]\n",
    "    for i in range(len(grid)):\n",
    "        for j in range(len(grid[0])-1):\n",
    "            minSum = min(minSum+grid[i][j],minSum+grid[i][j+1])\n",
    "            print(minSum)\n",
    "\n",
    "\n",
    "    return minSum\n",
    "    "
   ]
  },
  {
   "cell_type": "code",
   "execution_count": null,
   "metadata": {},
   "outputs": [],
   "source": [
    "12\n",
    "11"
   ]
  },
  {
   "cell_type": "code",
   "execution_count": null,
   "metadata": {},
   "outputs": [],
   "source": [
    "def minPathSum(grid):\n",
    "    m = len(grid)\n",
    "    n = len(grid[0])\n",
    " \n",
    "    dp = [[0 for x in range(m)] for y in range(n)] \n",
    "    dp[0][0] = grid[0][0];    \n",
    " \n",
    "    for i in range(n):\n",
    "        dp[0][i] = dp[0][i-1] + grid[0][i];\n",
    "    \n",
    " \n",
    "    // initialize left column\n",
    "    for(int j=1; j<m; j++){\n",
    "        dp[j][0] = dp[j-1][0] + grid[j][0];\n",
    "    }\n",
    " \n",
    "    // fill up the dp table\n",
    "    for(int i=1; i<m; i++){\n",
    "        for(int j=1; j<n; j++){\n",
    "            if(dp[i-1][j] > dp[i][j-1]){\n",
    "                dp[i][j] = dp[i][j-1] + grid[i][j];\n",
    "            }else{\n",
    "                dp[i][j] = dp[i-1][j] + grid[i][j];\n",
    "            }\n",
    "        }\n",
    "    }\n",
    " \n",
    "    return dp[m-1][n-1];\n",
    "    \n"
   ]
  },
  {
   "cell_type": "code",
   "execution_count": null,
   "metadata": {},
   "outputs": [],
   "source": [
    "minPathSum([[1,3,1],[1,5,1],[4,2,1]])"
   ]
  },
  {
   "cell_type": "code",
   "execution_count": null,
   "metadata": {},
   "outputs": [],
   "source": [
    "[1,3,1],\n",
    "[1,5,1],\n",
    "[4,2,1]"
   ]
  },
  {
   "cell_type": "code",
   "execution_count": 3,
   "metadata": {},
   "outputs": [
    {
     "name": "stdout",
     "output_type": "stream",
     "text": [
      "[[0, 0, 0], [0, 0, 0], [0, 0, 0], [0, 0, 0]]\n"
     ]
    }
   ],
   "source": [
    "m = 3\n",
    "n = 4\n",
    "\n",
    "dp = [[0 for x in range(m)] for y in range(n)] \n",
    "print(dp)\n",
    "    "
   ]
  },
  {
   "cell_type": "code",
   "execution_count": null,
   "metadata": {},
   "outputs": [],
   "source": []
  },
  {
   "cell_type": "code",
   "execution_count": null,
   "metadata": {},
   "outputs": [],
   "source": []
  }
 ],
 "metadata": {
  "kernelspec": {
   "display_name": "Python 3",
   "language": "python",
   "name": "python3"
  },
  "language_info": {
   "codemirror_mode": {
    "name": "ipython",
    "version": 3
   },
   "file_extension": ".py",
   "mimetype": "text/x-python",
   "name": "python",
   "nbconvert_exporter": "python",
   "pygments_lexer": "ipython3",
   "version": "3.6.5"
  }
 },
 "nbformat": 4,
 "nbformat_minor": 2
}
