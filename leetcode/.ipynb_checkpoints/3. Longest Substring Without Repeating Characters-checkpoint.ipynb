{
 "cells": [
  {
   "cell_type": "code",
   "execution_count": 10,
   "metadata": {},
   "outputs": [],
   "source": [
    "def longestSubstring(string):\n",
    "    maxSize = 0\n",
    "    count = 0\n",
    "    charactersDictionary= {}\n",
    "\n",
    "    for i in range(len(string)):\n",
    "        if string[i] in charactersDictionary.keys():\n",
    "            maxSize = max(maxSize, count)\n",
    "            count = 1\n",
    "            charactersDictionary={}\n",
    "            charactersDictionary[string[i]] = \" \"\n",
    "        else:\n",
    "            count = count+1\n",
    "            charactersDictionary[string[i]] = \" \"\n",
    "    return maxSize\n",
    "        "
   ]
  },
  {
   "cell_type": "code",
   "execution_count": 11,
   "metadata": {},
   "outputs": [
    {
     "data": {
      "text/plain": [
       "3"
      ]
     },
     "execution_count": 11,
     "metadata": {},
     "output_type": "execute_result"
    }
   ],
   "source": [
    "longestSubstring(\"pwwkew\")"
   ]
  },
  {
   "cell_type": "code",
   "execution_count": null,
   "metadata": {},
   "outputs": [],
   "source": [
    "\"pwwkew\""
   ]
  },
  {
   "cell_type": "code",
   "execution_count": null,
   "metadata": {},
   "outputs": [],
   "source": [
    "pw max2\n"
   ]
  }
 ],
 "metadata": {
  "kernelspec": {
   "display_name": "Python 3",
   "language": "python",
   "name": "python3"
  },
  "language_info": {
   "codemirror_mode": {
    "name": "ipython",
    "version": 3
   },
   "file_extension": ".py",
   "mimetype": "text/x-python",
   "name": "python",
   "nbconvert_exporter": "python",
   "pygments_lexer": "ipython3",
   "version": "3.6.5"
  }
 },
 "nbformat": 4,
 "nbformat_minor": 2
}
