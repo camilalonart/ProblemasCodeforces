{
 "cells": [
  {
   "cell_type": "code",
   "execution_count": 7,
   "metadata": {},
   "outputs": [],
   "source": [
    "def longestSubstring(string):\n",
    "    maxSize = -1\n",
    "    count = 0\n",
    "    charactersDictionary= {}\n",
    "\n",
    "    for i in range(len(string)):\n",
    "        if string[i] in charactersDictionary.keys():\n",
    "            maxSize = max(maxSize, count)\n",
    "            count = 0\n",
    "            charactersDictionary={}\n",
    "        else:\n",
    "            count = count+1\n",
    "            charactersDictionary[string[i]] = \" \"\n",
    "    return maxSize\n",
    "        "
   ]
  },
  {
   "cell_type": "code",
   "execution_count": null,
   "metadata": {},
   "outputs": [],
   "source": [
    "    JAVA\n",
    "    String string = \"abqwcdab\";\n",
    "    int maxSize = -1;\n",
    "    int count = 0;\n",
    "    Hashtable charactersDictionary = new Hashtable<>();\n",
    "\n",
    "    for(int i = 0; i < string.length(); i++){\n",
    "      if(charactersDictionary.containsKey(string.charAt(i))){\n",
    "            maxSize = Math.max(maxSize, count);\n",
    "            count = 0;\n",
    "            charactersDictionary = new Hashtable<>();\n",
    "      }else{\n",
    "          count = count+1;\n",
    "          charactersDictionary.put(string.charAt(i), \" \");\n",
    "      }\n",
    "    }\n",
    "    System.out.println(maxSize);"
   ]
  },
  {
   "cell_type": "code",
   "execution_count": null,
   "metadata": {},
   "outputs": [],
   "source": []
  }
 ],
 "metadata": {
  "kernelspec": {
   "display_name": "Python 3",
   "language": "python",
   "name": "python3"
  },
  "language_info": {
   "codemirror_mode": {
    "name": "ipython",
    "version": 3
   },
   "file_extension": ".py",
   "mimetype": "text/x-python",
   "name": "python",
   "nbconvert_exporter": "python",
   "pygments_lexer": "ipython3",
   "version": "3.6.5"
  }
 },
 "nbformat": 4,
 "nbformat_minor": 2
}
